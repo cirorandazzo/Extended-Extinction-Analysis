{
 "cells": [
  {
   "cell_type": "code",
   "execution_count": 46,
   "metadata": {},
   "outputs": [],
   "source": [
    "import numpy as np\n",
    "import pandas as pd\n",
    "import matplotlib.pyplot as plt\n",
    "import scipy.stats as stats\n",
    "# import seaborn as sns\n",
    "# TODO: redo this with seaborn?\n",
    "\n",
    "from barplot_brackets import *\n",
    "from barplot_group_means import *"
   ]
  },
  {
   "cell_type": "code",
   "execution_count": 31,
   "metadata": {},
   "outputs": [
    {
     "data": {
      "text/plain": [
       "'# TODO\\n\\n# \\n# something clever with deciding which/all sessions to look at\\n\\n# data_folder = \"./data/\"\\n# group = \"ee1\"\\n# session = \"2cfrt\"\\n# scorer = \"mel\"\\n\\n# ee1_vns = [2,3,6,7,9,11]\\n# ee1_sham = [1,4,5,8,10]\\n# ee1_exclude = []\\n\\n# ee2_vns = [1,3,6,8,9]\\n# ee2_sham = [2,4,5,7,10]\\n# ee2_exclude = [ 6 ] # cuff problems\\n\\n# vns_color = \\'blue\\'\\n# sham_color = \\'red\\'\\n\\n\\n\\n#---- PROBABLY TRASH\\n# sessions = { # true for session(s) to graph.\\n#     \"1AFC\"   : True,\\n#     \"2CRFT\"  : False,\\n#     \"3EXT1\"  : False,\\n#     \"4EXT2\"  : False,\\n#     \"5RET\"   : False,\\n#     \"6SR1\"   : False,\\n#     \"7SR2\"   : False,\\n#     \"8REN\"   : False,\\n#     \"9RST\"   : False\\n# }'"
      ]
     },
     "execution_count": 31,
     "metadata": {},
     "output_type": "execute_result"
    }
   ],
   "source": [
    "'''# TODO\n",
    "\n",
    "# \n",
    "# something clever with deciding which/all sessions to look at\n",
    "\n",
    "# data_folder = \"./data/\"\n",
    "# group = \"ee1\"\n",
    "# session = \"2cfrt\"\n",
    "# scorer = \"mel\"\n",
    "\n",
    "# ee1_vns = [2,3,6,7,9,11]\n",
    "# ee1_sham = [1,4,5,8,10]\n",
    "# ee1_exclude = []\n",
    "\n",
    "# ee2_vns = [1,3,6,8,9]\n",
    "# ee2_sham = [2,4,5,7,10]\n",
    "# ee2_exclude = [ 6 ] # cuff problems\n",
    "\n",
    "# vns_color = 'blue'\n",
    "# sham_color = 'red'\n",
    "\n",
    "\n",
    "\n",
    "#---- PROBABLY TRASH\n",
    "# sessions = { # true for session(s) to graph.\n",
    "#     \"1AFC\"   : True,\n",
    "#     \"2CRFT\"  : False,\n",
    "#     \"3EXT1\"  : False,\n",
    "#     \"4EXT2\"  : False,\n",
    "#     \"5RET\"   : False,\n",
    "#     \"6SR1\"   : False,\n",
    "#     \"7SR2\"   : False,\n",
    "#     \"8REN\"   : False,\n",
    "#     \"9RST\"   : False\n",
    "# }'''"
   ]
  },
  {
   "cell_type": "code",
   "execution_count": 32,
   "metadata": {},
   "outputs": [],
   "source": [
    "# TODO: stats\n",
    "# see https://scipy-lectures.org/packages/statistics/index.html#student-s-t-test-the-simplest-statistical-test"
   ]
  },
  {
   "cell_type": "code",
   "execution_count": 33,
   "metadata": {},
   "outputs": [],
   "source": [
    "session_data = \"./data/ee1/ee1-1afc-mel.csv\"\n",
    "session=\"AFC\"\n",
    "\n",
    "vns = [2,3,6,7,9,11]\n",
    "sham = [1,4,5,8,10]\n",
    "\n",
    "vns_color = 'red'\n",
    "sham_color = 'blue'\n",
    "\n",
    "time_per_trial = 30  # length of each trial in seconds"
   ]
  },
  {
   "cell_type": "code",
   "execution_count": 34,
   "metadata": {},
   "outputs": [],
   "source": [
    "df = pd.read_csv(session_data)\n",
    "df.set_index(\"RAT\",inplace=True)\n",
    "\n",
    "df = 100 * df / time_per_trial  # change into percents\n",
    "\n",
    "# sessions with baseline.\n",
    "# try:\n",
    "#     bl_df = df.loc[:,['BL1','BL2']]  # new df for just baseline\n",
    "#     df = df.loc[:, ~df.columns.isin(['BL1','BL2'])]  # remove bl from df\n",
    "# except KeyError:\n",
    "#     pass"
   ]
  },
  {
   "cell_type": "code",
   "execution_count": 35,
   "metadata": {},
   "outputs": [],
   "source": [
    "# total session means, for bar plot\n",
    "\n",
    "all_means = df.mean(axis=1,numeric_only=True)\n",
    "\n",
    "vns_means = all_means.loc[vns]\n",
    "sham_means = all_means.loc[sham]"
   ]
  },
  {
   "cell_type": "code",
   "execution_count": 36,
   "metadata": {},
   "outputs": [],
   "source": [
    "# barplot of group means for all trials\n",
    "\n",
    "# barplot_group_means(\n",
    "#     x=(1,3),\n",
    "#     y=(vns_means,sham_means),\n",
    "#     lbls=(\"VNS\",\"SHAM\"),\n",
    "#     colors=(vns_color,sham_color),\n",
    "#     w=1,\n",
    "#     p=.5\n",
    "# )"
   ]
  },
  {
   "cell_type": "code",
   "execution_count": 37,
   "metadata": {},
   "outputs": [],
   "source": [
    "# Bins of 2 trials\n",
    "\n",
    "df_bins = pd.DataFrame(index=df.index)\n",
    "\n",
    "bl_sessions = [s for s in df.columns if \"BL\" in s.upper()]  # count number of baseline sessions in data\n",
    "\n",
    "bl_bins = int(len(bl_sessions)/2)\n",
    "bins = int(df.shape[1] / 2) - bl_bins\n",
    "\n",
    "# binning baseline sessions\n",
    "for i in range(0,bl_bins):\n",
    "    a = \"BL\"+str(2*i+1)\n",
    "    b = \"BL\"+str((2*i)+2)\n",
    "    \n",
    "    trial = 1-(bl_bins-i)  # bl bins are called -(n-1) to 0; n= # bl bins\n",
    "\n",
    "    df_bins[trial] = df.loc[:,a:b].mean(axis=1)\n",
    "\n",
    "# bins\n",
    "for i in range(0,bins):\n",
    "    a = str((2*i)+1)\n",
    "    b = str((2*i)+2)\n",
    "\n",
    "    trial = i+1\n",
    "\n",
    "    df_bins[trial] = df.loc[:,a:b].mean(axis=1)"
   ]
  },
  {
   "cell_type": "code",
   "execution_count": 45,
   "metadata": {},
   "outputs": [],
   "source": [
    "data = [df_bins.loc[vns], df_bins.loc[sham]]\n",
    "group_labels = [\"VNS\",\"SHAM\"]\n",
    "\n",
    "group_mean_by_bin = [group_df.mean() for group_df in data]\n",
    "group_error_by_bin = [group_df.sem() for group_df in data]\n",
    "\n",
    "group_colors = [vns_color, sham_color]\n",
    "\n",
    "show_significance=True"
   ]
  },
  {
   "cell_type": "code",
   "execution_count": 44,
   "metadata": {},
   "outputs": [
    {
     "data": {
      "image/png": "[encoded data removed]",
      "text/plain": [
       "<Figure size 432x288 with 1 Axes>"
      ]
     },
     "metadata": {
      "needs_background": "light"
     },
     "output_type": "display_data"
    }
   ],
   "source": [
    "fig, ax = plt.subplots()\n",
    "\n",
    "# TODO: make into function\n",
    "\n",
    "for grp_i in range(0,len(group_mean_by_bin)):\n",
    "    ax.errorbar(\n",
    "        x=group_mean_by_bin[grp_i].index,\n",
    "        y=group_mean_by_bin[grp_i],\n",
    "        yerr=group_error_by_bin[grp_i],\n",
    "        label=group_labels[grp_i],\n",
    "        color=group_colors[grp_i],\n",
    "        marker=\".\", markersize=12,\n",
    "        capsize=4,\n",
    "    )\n",
    "\n",
    "ax.set(\n",
    "    title=session,\n",
    "    xticks=list(group_mean_by_bin[0].index),  #[i for i in range(1,len(group_mean_by_bin[0])+1)],\n",
    "    ylim=[0,100],\n",
    "    ylabel= \"% Freezing\"\n",
    ")\n",
    "\n",
    "# TODO: significance\n",
    "p_vals = stats.ttest_ind(data[0],data[1])[1]\n",
    "\n",
    "if show_significance:\n",
    "    for p in p_vals:\n",
    "        if p > 0.05:\n",
    "            continue\n",
    "        elif p == 0.05:\n",
    "            trial_label = \"p=0.05\"\n",
    "        else:\n",
    "            get_sig_stars(p)\n",
    "            \n",
    "\n",
    "\n",
    "# Labelling BL sessions\n",
    "x_labels = []\n",
    "for c in group_mean_by_bin[0].index:\n",
    "    if c<=0:  # for BL bins\n",
    "        if bl_bins==1:  # label \"BL\" if only 1\n",
    "            x_labels.append(\"BL\")\n",
    "        else:  # else, label \"BL1\" thru \"BL#\"\n",
    "            x_labels.append(\"BL\"+str(c+bl_bins))\n",
    "    else:\n",
    "        x_labels.append(str(c))\n",
    "\n",
    "ax.set_xticklabels(\n",
    "    labels = x_labels\n",
    ")\n",
    "\n",
    "ax.legend()\n",
    "plt.savefig('EX-afc-lm')\n",
    "plt.show(fig)"
   ]
  },
  {
   "cell_type": "code",
   "execution_count": 41,
   "metadata": {},
   "outputs": [
    {
     "data": {
      "text/plain": [
       "<Figure size 432x288 with 0 Axes>"
      ]
     },
     "metadata": {},
     "output_type": "display_data"
    }
   ],
   "source": [
    "plt.savefig('EX-lm-afc.png')"
   ]
  },
  {
   "cell_type": "code",
   "execution_count": null,
   "metadata": {},
   "outputs": [],
   "source": [
    "def get_sig_stars(p):\n",
    "    if p<0.05 and p>=.005:\n",
    "        return \"*\"\n",
    "    elif p<.005 and p>= .0005:\n",
    "        return \"**\"\n",
    "    else:\n",
    "        return \"***\""
   ]
  }
 ],
 "metadata": {
  "kernelspec": {
   "display_name": "Python 3.9.12 ('ee-analysis')",
   "language": "python",
   "name": "python3"
  },
  "language_info": {
   "codemirror_mode": {
    "name": "ipython",
    "version": 3
   },
   "file_extension": ".py",
   "mimetype": "text/x-python",
   "name": "python",
   "nbconvert_exporter": "python",
   "pygments_lexer": "ipython3",
   "version": "3.9.12"
  },
  "orig_nbformat": 4,
  "vscode": {
   "interpreter": {
    "hash": "b57fedab831a65b9b786d818518b22f519a5053caab0a419ad6d06eaf11ea1ee"
   }
  }
 },
 "nbformat": 4,
 "nbformat_minor": 2
}
