{
 "cells": [
  {
   "cell_type": "code",
   "execution_count": 13,
   "metadata": {},
   "outputs": [],
   "source": [
    "import numpy as np\n",
    "import pandas as pd\n",
    "import matplotlib.pyplot as plt\n",
    "\n",
    "from barplot_brackets import *\n",
    "from barplot_group_means import *"
   ]
  },
  {
   "cell_type": "code",
   "execution_count": null,
   "metadata": {},
   "outputs": [],
   "source": [
    "'''# TODO\n",
    "\n",
    "# \n",
    "# something clever with deciding which/all sessions to look at\n",
    "\n",
    "# data_folder = \"./data/\"\n",
    "# group = \"ee1\"\n",
    "# session = \"2cfrt\"\n",
    "# scorer = \"mel\"\n",
    "\n",
    "# ee1_vns = [2,3,6,7,9,11]\n",
    "# ee1_sham = [1,4,5,8,10]\n",
    "# ee1_exclude = []\n",
    "\n",
    "# ee2_vns = [1,3,6,8,9]\n",
    "# ee2_sham = [2,4,5,7,10]\n",
    "# ee2_exclude = [ 6 ] # cuff problems\n",
    "\n",
    "# vns_color = 'blue'\n",
    "# sham_color = 'red'\n",
    "\n",
    "\n",
    "\n",
    "#---- PROBABLY TRASH\n",
    "# sessions = { # true for session(s) to graph.\n",
    "#     \"1AFC\"   : True,\n",
    "#     \"2CRFT\"  : False,\n",
    "#     \"3EXT1\"  : False,\n",
    "#     \"4EXT2\"  : False,\n",
    "#     \"5RET\"   : False,\n",
    "#     \"6SR1\"   : False,\n",
    "#     \"7SR2\"   : False,\n",
    "#     \"8REN\"   : False,\n",
    "#     \"9RST\"   : False\n",
    "# }'''"
   ]
  },
  {
   "cell_type": "code",
   "execution_count": null,
   "metadata": {},
   "outputs": [],
   "source": [
    "# TODO: stats\n",
    "# see https://scipy-lectures.org/packages/statistics/index.html#student-s-t-test-the-simplest-statistical-test"
   ]
  },
  {
   "cell_type": "code",
   "execution_count": 65,
   "metadata": {},
   "outputs": [],
   "source": [
    "session_data = \"./data/ee1/ee1-3ext1-mel.csv\"\n",
    "session=\"EXT 1\"\n",
    "\n",
    "vns = [2,3,6,7,9,11]\n",
    "sham = [1,4,5,8,10]\n",
    "\n",
    "vns_color = 'red'\n",
    "sham_color = 'blue'\n",
    "\n",
    "time_per_trial = 30  # length of each trial in seconds"
   ]
  },
  {
   "cell_type": "code",
   "execution_count": 15,
   "metadata": {},
   "outputs": [],
   "source": [
    "df = pd.read_csv(session_data)\n",
    "df.set_index(\"RAT\",inplace=True)\n",
    "\n",
    "df = 100 * df / time_per_trial  # change into percents\n",
    "\n",
    "# sessions with baseline.\n",
    "try:\n",
    "    bl_df = df.loc[:,['BL1','BL2']]  # new df for just baseline\n",
    "    df = df.loc[:, ~df.columns.isin(['BL1','BL2'])]  # remove bl from df\n",
    "except KeyError:\n",
    "    pass"
   ]
  },
  {
   "cell_type": "code",
   "execution_count": 17,
   "metadata": {},
   "outputs": [],
   "source": [
    "# total session means, for bar plot\n",
    "\n",
    "all_means = df.mean(axis=1,numeric_only=True)\n",
    "\n",
    "vns_means = all_means.loc[vns]\n",
    "sham_means = all_means.loc[sham]"
   ]
  },
  {
   "cell_type": "code",
   "execution_count": null,
   "metadata": {},
   "outputs": [],
   "source": [
    "# barplot of group means for all trials\n",
    "\n",
    "# barplot_group_means(\n",
    "#     x=(1,3),\n",
    "#     y=(vns_means,sham_means),\n",
    "#     lbls=(\"VNS\",\"SHAM\"),\n",
    "#     colors=(vns_color,sham_color),\n",
    "#     w=1,\n",
    "#     p=None\n",
    "# )"
   ]
  },
  {
   "cell_type": "code",
   "execution_count": 18,
   "metadata": {},
   "outputs": [],
   "source": [
    "# Bins of 2 trials\n",
    "\n",
    "df_bins = pd.DataFrame(index=df.index)\n",
    "\n",
    "bins = int(df.shape[1] / 2)\n",
    "\n",
    "for i in range(0,bins):\n",
    "    a = (2*i)\n",
    "    b = (2*i)+2\n",
    "    df_bins[i+1] = df.iloc[:,a:b].mean(axis=1)"
   ]
  },
  {
   "cell_type": "code",
   "execution_count": 67,
   "metadata": {},
   "outputs": [],
   "source": [
    "data = [df_bins.loc[vns], df_bins.loc[sham]]\n",
    "group_labels = [\"VNS\",\"SHAM\"]\n",
    "\n",
    "group_mean_by_bin = [group_df.mean() for group_df in data]\n",
    "group_error_by_bin = [group_df.sem() for group_df in data]\n",
    "\n",
    "group_colors = [vns_color, sham_color]"
   ]
  },
  {
   "cell_type": "code",
   "execution_count": 68,
   "metadata": {},
   "outputs": [
    {
     "data": {
      "image/png": "[encoded data removed]",
      "text/plain": [
       "<Figure size 432x288 with 1 Axes>"
      ]
     },
     "metadata": {
      "needs_background": "light"
     },
     "output_type": "display_data"
    }
   ],
   "source": [
    "# trials = [int(i) for i in df_bins.columns]\n",
    "\n",
    "fig, ax = plt.subplots()\n",
    "\n",
    "# ax.plot(\n",
    "#     vns_data,\n",
    "#     color=vns_color,\n",
    "#     label=\"VNS\",\n",
    "#     marker=\".\"\n",
    "# )\n",
    "\n",
    "# TODO: add baseline\n",
    "# TODO: make function\n",
    "\n",
    "for grp_i in range(0,len(group_mean_by_bin)):\n",
    "\n",
    "    ax.errorbar(\n",
    "        x=group_mean_by_bin[grp_i].index,\n",
    "        y=group_mean_by_bin[grp_i],\n",
    "        yerr=group_error_by_bin[grp_i],\n",
    "        label=group_labels[grp_i],\n",
    "        color=group_colors[grp_i],\n",
    "        marker=\".\", markersize=12,\n",
    "        capsize=4,\n",
    "    )\n",
    "\n",
    "ax.set(\n",
    "    title=session,\n",
    "    xticks=[i for i in range(1,len(group_mean_by_bin[0])+1)],\n",
    "    ylim=[0,100],\n",
    "    ylabel= \"% Freezing\"\n",
    ")\n",
    "\n",
    "ax.legend()\n",
    "\n",
    "plt.show(fig)"
   ]
  },
  {
   "cell_type": "code",
   "execution_count": null,
   "metadata": {},
   "outputs": [],
   "source": []
  }
 ],
 "metadata": {
  "kernelspec": {
   "display_name": "Python 3.9.12 ('ee-analysis')",
   "language": "python",
   "name": "python3"
  },
  "language_info": {
   "codemirror_mode": {
    "name": "ipython",
    "version": 3
   },
   "file_extension": ".py",
   "mimetype": "text/x-python",
   "name": "python",
   "nbconvert_exporter": "python",
   "pygments_lexer": "ipython3",
   "version": "3.9.12"
  },
  "orig_nbformat": 4,
  "vscode": {
   "interpreter": {
    "hash": "b57fedab831a65b9b786d818518b22f519a5053caab0a419ad6d06eaf11ea1ee"
   }
  }
 },
 "nbformat": 4,
 "nbformat_minor": 2
}
