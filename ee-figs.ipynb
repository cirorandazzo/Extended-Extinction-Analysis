{
 "cells": [
  {
   "cell_type": "code",
   "execution_count": 1,
   "metadata": {},
   "outputs": [],
   "source": [
    "import numpy as np\n",
    "import pandas as pd\n",
    "import matplotlib.pyplot as plt\n",
    "import scipy.stats as stats\n",
    "# import seaborn as sns\n",
    "# TODO: redo this with seaborn?\n",
    "\n",
    "from barplot_brackets import *\n",
    "from barplot_group_means import *\n",
    "from lineplot_bin_means import *"
   ]
  },
  {
   "cell_type": "code",
   "execution_count": 2,
   "metadata": {},
   "outputs": [
    {
     "data": {
      "text/plain": [
       "'# TODO\\n\\n# \\n# something clever with deciding which/all sessions to look at\\n\\n# data_folder = \"./data/\"\\n# group = \"ee1\"\\n# session = \"2cfrt\"\\n# scorer = \"mel\"\\n\\n# ee1_vns = [2,3,6,7,9,11]\\n# ee1_sham = [1,4,5,8,10]\\n# ee1_exclude = []\\n\\n# ee2_vns = [1,3,6,8,9]\\n# ee2_sham = [2,4,5,7,10]\\n# ee2_exclude = [ 6 ] # cuff problems\\n\\n# vns_color = \\'blue\\'\\n# sham_color = \\'red\\'\\n\\n\\n\\n#---- PROBABLY TRASH\\n# sessions = { # true for session(s) to graph.\\n#     \"1AFC\"   : True,\\n#     \"2CRFT\"  : False,\\n#     \"3EXT1\"  : False,\\n#     \"4EXT2\"  : False,\\n#     \"5RET\"   : False,\\n#     \"6SR1\"   : False,\\n#     \"7SR2\"   : False,\\n#     \"8REN\"   : False,\\n#     \"9RST\"   : False\\n# }'"
      ]
     },
     "execution_count": 2,
     "metadata": {},
     "output_type": "execute_result"
    }
   ],
   "source": [
    "'''# TODO\n",
    "\n",
    "# \n",
    "# something clever with deciding which/all sessions to look at\n",
    "\n",
    "# data_folder = \"./data/\"\n",
    "# group = \"ee1\"\n",
    "# session = \"2cfrt\"\n",
    "# scorer = \"mel\"\n",
    "\n",
    "# ee1_vns = [2,3,6,7,9,11]\n",
    "# ee1_sham = [1,4,5,8,10]\n",
    "# ee1_exclude = []\n",
    "\n",
    "# ee2_vns = [1,3,6,8,9]\n",
    "# ee2_sham = [2,4,5,7,10]\n",
    "# ee2_exclude = [ 6 ] # cuff problems\n",
    "\n",
    "# vns_color = 'blue'\n",
    "# sham_color = 'red'\n",
    "\n",
    "\n",
    "\n",
    "#---- PROBABLY TRASH\n",
    "# sessions = { # true for session(s) to graph.\n",
    "#     \"1AFC\"   : True,\n",
    "#     \"2CRFT\"  : False,\n",
    "#     \"3EXT1\"  : False,\n",
    "#     \"4EXT2\"  : False,\n",
    "#     \"5RET\"   : False,\n",
    "#     \"6SR1\"   : False,\n",
    "#     \"7SR2\"   : False,\n",
    "#     \"8REN\"   : False,\n",
    "#     \"9RST\"   : False\n",
    "# }'''"
   ]
  },
  {
   "cell_type": "code",
   "execution_count": 3,
   "metadata": {},
   "outputs": [],
   "source": [
    "# TODO: stats\n",
    "# see https://scipy-lectures.org/packages/statistics/index.html#student-s-t-test-the-simplest-statistical-test"
   ]
  },
  {
   "cell_type": "code",
   "execution_count": 4,
   "metadata": {},
   "outputs": [],
   "source": [
    "session_data = \"./data/ee1/ee1-9rst-mel.csv\"\n",
    "session=\"Reinstatement\"\n",
    "\n",
    "vns = [2,3,6,7,9,11]\n",
    "sham = [1,4,5,8,10]\n",
    "\n",
    "vns_color = 'red'\n",
    "sham_color = 'blue'\n",
    "\n",
    "time_per_trial = 30  # length of each trial in seconds"
   ]
  },
  {
   "cell_type": "code",
   "execution_count": 5,
   "metadata": {},
   "outputs": [],
   "source": [
    "df = pd.read_csv(session_data)\n",
    "df.set_index(\"RAT\",inplace=True)\n",
    "\n",
    "df = 100 * df / time_per_trial  # change into percents"
   ]
  },
  {
   "cell_type": "code",
   "execution_count": 6,
   "metadata": {},
   "outputs": [],
   "source": [
    "# # total session means, for bar plot\n",
    "# all_means = df.mean(axis=1,numeric_only=True)\n",
    "\n",
    "# vns_means = all_means.loc[vns]\n",
    "# sham_means = all_means.loc[sham]\n",
    "\n",
    "# # barplot of group means for all trials\n",
    "# barplot_group_means(\n",
    "#     x=(1,3),\n",
    "#     y=(vns_means,sham_means),\n",
    "#     lbls=(\"VNS\",\"SHAM\"),\n",
    "#     colors=(vns_color,sham_color),\n",
    "#     w=1,\n",
    "#     p=.5\n",
    "# )"
   ]
  },
  {
   "cell_type": "code",
   "execution_count": 9,
   "metadata": {},
   "outputs": [
    {
     "data": {
      "image/png": "[encoded data removed]",
      "text/plain": [
       "<Figure size 432x432 with 1 Axes>"
      ]
     },
     "metadata": {
      "needs_background": "light"
     },
     "output_type": "display_data"
    }
   ],
   "source": [
    "fig, ax = lineplot_bin_means(\n",
    "    df=df,\n",
    "    group_assignments=[vns,sham],\n",
    "    group_labels=[\"VNS\",\"SHAM\"],\n",
    "    group_colors=[vns_color,sham_color],\n",
    "    session_name=session,\n",
    "    show=True,\n",
    "    legend=False,\n",
    ")"
   ]
  }
 ],
 "metadata": {
  "kernelspec": {
   "display_name": "Python 3.9.12 ('ee-analysis')",
   "language": "python",
   "name": "python3"
  },
  "language_info": {
   "codemirror_mode": {
    "name": "ipython",
    "version": 3
   },
   "file_extension": ".py",
   "mimetype": "text/x-python",
   "name": "python",
   "nbconvert_exporter": "python",
   "pygments_lexer": "ipython3",
   "version": "3.9.12"
  },
  "orig_nbformat": 4,
  "vscode": {
   "interpreter": {
    "hash": "b57fedab831a65b9b786d818518b22f519a5053caab0a419ad6d06eaf11ea1ee"
   }
  }
 },
 "nbformat": 4,
 "nbformat_minor": 2
}
